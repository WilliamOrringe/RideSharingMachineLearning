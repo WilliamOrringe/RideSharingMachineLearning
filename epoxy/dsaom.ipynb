{
 "cells": [
  {
   "cell_type": "code",
   "execution_count": 1,
   "metadata": {
    "pycharm": {
     "name": "#%%\n"
    }
   },
   "outputs": [],
   "source": [
    "#!pip install fiona\n",
    "import fiona\n",
    "import pandas as pd\n",
    "import shapely\n",
    "import geopandas\n",
    "from shapely.geometry import shape,mapping, Point, Polygon, MultiPolygon\n",
    "import matplotlib.pyplot as plt"
   ]
  },
  {
   "cell_type": "code",
   "execution_count": 11,
   "metadata": {
    "pycharm": {
     "name": "#%%\n"
    }
   },
   "outputs": [
    {
     "name": "stderr",
     "output_type": "stream",
     "text": [
      "/var/folders/5z/fppys3dn27df6rctm0p78hq80000gn/T/ipykernel_53245/48116342.py:1: FutureWarning: The error_bad_lines argument has been deprecated and will be removed in a future version. Use on_bad_lines in the future.\n",
      "\n",
      "\n",
      "  df = pd.read_csv('../data/yellow_tripdata_2021-01.csv', error_bad_lines=False)\n",
      "/var/folders/5z/fppys3dn27df6rctm0p78hq80000gn/T/ipykernel_53245/48116342.py:1: DtypeWarning: Columns (6) have mixed types. Specify dtype option on import or set low_memory=False.\n",
      "  df = pd.read_csv('../data/yellow_tripdata_2021-01.csv', error_bad_lines=False)\n"
     ]
    }
   ],
   "source": [
    "df = pd.read_csv('../data/yellow_tripdata_2021-01.csv', error_bad_lines=False)\n",
    "dff = df.copy()"
   ]
  },
  {
   "cell_type": "code",
   "execution_count": 7,
   "metadata": {
    "pycharm": {
     "name": "#%%\n"
    }
   },
   "outputs": [],
   "source": [
    "# https://towardsdatascience.com/geospatial-operations-at-scale-with-dask-and-geopandas-4d92d00eb7e8\n",
    "def assign_taxi_zones(df, lon_var, lat_var, locid_var):\n",
    "    import numpy as np\n",
    "    import geopandas\n",
    "    from shapely.geometry import Point\n",
    "\n",
    "    localdf = df[[lon_var, lat_var]].copy()\n",
    "    \n",
    "    localdf[lon_var] = localdf[lon_var].fillna(value=0.)\n",
    "    localdf[lat_var] = localdf[lat_var].fillna(value=0.)\n",
    "    \n",
    "    shape_df = geopandas.read_file('../data/taxi_zones/taxi_zones.shp')\n",
    "    shape_df = shape_df.to_crs({'init': 'epsg:4326'})\n",
    "    try:\n",
    "        local_gdf = geopandas.GeoDataFrame(\n",
    "            localdf, crs={'init': 'epsg:4326'},\n",
    "            geometry=[Point(xy) for xy in\n",
    "                      zip(localdf[lon_var], localdf[lat_var])])\n",
    "\n",
    "        local_gdf = geopandas.sjoin(\n",
    "            local_gdf, shape_df, how='left', op='within')\n",
    "\n",
    "        return local_gdf.OBJECTID.rename(locid_var)\n",
    "    except ValueError as ve:\n",
    "        print(ve)\n",
    "        print(ve.stacktrace())\n",
    "        series = localdf[lon_var]\n",
    "        series = np.nan\n",
    "        return series"
   ]
  },
  {
   "cell_type": "code",
   "execution_count": null,
   "outputs": [],
   "source": [
    "assign_taxi_zones(df,)"
   ],
   "metadata": {
    "collapsed": false,
    "pycharm": {
     "name": "#%%\n"
    }
   }
  },
  {
   "cell_type": "code",
   "execution_count": 8,
   "metadata": {
    "pycharm": {
     "name": "#%%\n"
    }
   },
   "outputs": [
    {
     "ename": "KeyError",
     "evalue": "\"None of [Index([' pickup_longitude', ' pickup_latitude'], dtype='object')] are in the [columns]\"",
     "output_type": "error",
     "traceback": [
      "\u001B[0;31m---------------------------------------------------------------------------\u001B[0m",
      "\u001B[0;31mKeyError\u001B[0m                                  Traceback (most recent call last)",
      "Input \u001B[0;32mIn [8]\u001B[0m, in \u001B[0;36m<cell line: 1>\u001B[0;34m()\u001B[0m\n\u001B[0;32m----> 1\u001B[0m dff \u001B[38;5;241m=\u001B[39m dff\u001B[38;5;241m.\u001B[39mjoin(\u001B[43massign_taxi_zones\u001B[49m\u001B[43m(\u001B[49m\u001B[43mdff\u001B[49m\u001B[43m,\u001B[49m\u001B[43m \u001B[49m\u001B[38;5;124;43m\"\u001B[39;49m\u001B[38;5;124;43m pickup_longitude\u001B[39;49m\u001B[38;5;124;43m\"\u001B[39;49m\u001B[43m,\u001B[49m\u001B[43m \u001B[49m\u001B[38;5;124;43m\"\u001B[39;49m\u001B[38;5;124;43m pickup_latitude\u001B[39;49m\u001B[38;5;124;43m\"\u001B[39;49m\u001B[43m,\u001B[49m\u001B[43m \u001B[49m\u001B[38;5;124;43m\"\u001B[39;49m\u001B[38;5;124;43mpickup_taxizone_id\u001B[39;49m\u001B[38;5;124;43m\"\u001B[39;49m\u001B[43m)\u001B[49m)\n\u001B[1;32m      2\u001B[0m dff \u001B[38;5;241m=\u001B[39m dff\u001B[38;5;241m.\u001B[39mjoin(assign_taxi_zones(dff, \u001B[38;5;124m\"\u001B[39m\u001B[38;5;124m dropoff_longitude\u001B[39m\u001B[38;5;124m\"\u001B[39m, \u001B[38;5;124m\"\u001B[39m\u001B[38;5;124m dropoff_latitude\u001B[39m\u001B[38;5;124m\"\u001B[39m, \u001B[38;5;124m\"\u001B[39m\u001B[38;5;124mdropoff_taxizone_id\u001B[39m\u001B[38;5;124m\"\u001B[39m))\n",
      "Input \u001B[0;32mIn [7]\u001B[0m, in \u001B[0;36massign_taxi_zones\u001B[0;34m(df, lon_var, lat_var, locid_var)\u001B[0m\n\u001B[1;32m      4\u001B[0m \u001B[38;5;28;01mimport\u001B[39;00m \u001B[38;5;21;01mgeopandas\u001B[39;00m\n\u001B[1;32m      5\u001B[0m \u001B[38;5;28;01mfrom\u001B[39;00m \u001B[38;5;21;01mshapely\u001B[39;00m\u001B[38;5;21;01m.\u001B[39;00m\u001B[38;5;21;01mgeometry\u001B[39;00m \u001B[38;5;28;01mimport\u001B[39;00m Point\n\u001B[0;32m----> 7\u001B[0m localdf \u001B[38;5;241m=\u001B[39m \u001B[43mdf\u001B[49m\u001B[43m[\u001B[49m\u001B[43m[\u001B[49m\u001B[43mlon_var\u001B[49m\u001B[43m,\u001B[49m\u001B[43m \u001B[49m\u001B[43mlat_var\u001B[49m\u001B[43m]\u001B[49m\u001B[43m]\u001B[49m\u001B[38;5;241m.\u001B[39mcopy()\n\u001B[1;32m      9\u001B[0m localdf[lon_var] \u001B[38;5;241m=\u001B[39m localdf[lon_var]\u001B[38;5;241m.\u001B[39mfillna(value\u001B[38;5;241m=\u001B[39m\u001B[38;5;241m0.\u001B[39m)\n\u001B[1;32m     10\u001B[0m localdf[lat_var] \u001B[38;5;241m=\u001B[39m localdf[lat_var]\u001B[38;5;241m.\u001B[39mfillna(value\u001B[38;5;241m=\u001B[39m\u001B[38;5;241m0.\u001B[39m)\n",
      "File \u001B[0;32m/opt/anaconda3/envs/ox/lib/python3.10/site-packages/pandas/core/frame.py:3511\u001B[0m, in \u001B[0;36mDataFrame.__getitem__\u001B[0;34m(self, key)\u001B[0m\n\u001B[1;32m   3509\u001B[0m     \u001B[38;5;28;01mif\u001B[39;00m is_iterator(key):\n\u001B[1;32m   3510\u001B[0m         key \u001B[38;5;241m=\u001B[39m \u001B[38;5;28mlist\u001B[39m(key)\n\u001B[0;32m-> 3511\u001B[0m     indexer \u001B[38;5;241m=\u001B[39m \u001B[38;5;28;43mself\u001B[39;49m\u001B[38;5;241;43m.\u001B[39;49m\u001B[43mcolumns\u001B[49m\u001B[38;5;241;43m.\u001B[39;49m\u001B[43m_get_indexer_strict\u001B[49m\u001B[43m(\u001B[49m\u001B[43mkey\u001B[49m\u001B[43m,\u001B[49m\u001B[43m \u001B[49m\u001B[38;5;124;43m\"\u001B[39;49m\u001B[38;5;124;43mcolumns\u001B[39;49m\u001B[38;5;124;43m\"\u001B[39;49m\u001B[43m)\u001B[49m[\u001B[38;5;241m1\u001B[39m]\n\u001B[1;32m   3513\u001B[0m \u001B[38;5;66;03m# take() does not accept boolean indexers\u001B[39;00m\n\u001B[1;32m   3514\u001B[0m \u001B[38;5;28;01mif\u001B[39;00m \u001B[38;5;28mgetattr\u001B[39m(indexer, \u001B[38;5;124m\"\u001B[39m\u001B[38;5;124mdtype\u001B[39m\u001B[38;5;124m\"\u001B[39m, \u001B[38;5;28;01mNone\u001B[39;00m) \u001B[38;5;241m==\u001B[39m \u001B[38;5;28mbool\u001B[39m:\n",
      "File \u001B[0;32m/opt/anaconda3/envs/ox/lib/python3.10/site-packages/pandas/core/indexes/base.py:5782\u001B[0m, in \u001B[0;36mIndex._get_indexer_strict\u001B[0;34m(self, key, axis_name)\u001B[0m\n\u001B[1;32m   5779\u001B[0m \u001B[38;5;28;01melse\u001B[39;00m:\n\u001B[1;32m   5780\u001B[0m     keyarr, indexer, new_indexer \u001B[38;5;241m=\u001B[39m \u001B[38;5;28mself\u001B[39m\u001B[38;5;241m.\u001B[39m_reindex_non_unique(keyarr)\n\u001B[0;32m-> 5782\u001B[0m \u001B[38;5;28;43mself\u001B[39;49m\u001B[38;5;241;43m.\u001B[39;49m\u001B[43m_raise_if_missing\u001B[49m\u001B[43m(\u001B[49m\u001B[43mkeyarr\u001B[49m\u001B[43m,\u001B[49m\u001B[43m \u001B[49m\u001B[43mindexer\u001B[49m\u001B[43m,\u001B[49m\u001B[43m \u001B[49m\u001B[43maxis_name\u001B[49m\u001B[43m)\u001B[49m\n\u001B[1;32m   5784\u001B[0m keyarr \u001B[38;5;241m=\u001B[39m \u001B[38;5;28mself\u001B[39m\u001B[38;5;241m.\u001B[39mtake(indexer)\n\u001B[1;32m   5785\u001B[0m \u001B[38;5;28;01mif\u001B[39;00m \u001B[38;5;28misinstance\u001B[39m(key, Index):\n\u001B[1;32m   5786\u001B[0m     \u001B[38;5;66;03m# GH 42790 - Preserve name from an Index\u001B[39;00m\n",
      "File \u001B[0;32m/opt/anaconda3/envs/ox/lib/python3.10/site-packages/pandas/core/indexes/base.py:5842\u001B[0m, in \u001B[0;36mIndex._raise_if_missing\u001B[0;34m(self, key, indexer, axis_name)\u001B[0m\n\u001B[1;32m   5840\u001B[0m     \u001B[38;5;28;01mif\u001B[39;00m use_interval_msg:\n\u001B[1;32m   5841\u001B[0m         key \u001B[38;5;241m=\u001B[39m \u001B[38;5;28mlist\u001B[39m(key)\n\u001B[0;32m-> 5842\u001B[0m     \u001B[38;5;28;01mraise\u001B[39;00m \u001B[38;5;167;01mKeyError\u001B[39;00m(\u001B[38;5;124mf\u001B[39m\u001B[38;5;124m\"\u001B[39m\u001B[38;5;124mNone of [\u001B[39m\u001B[38;5;132;01m{\u001B[39;00mkey\u001B[38;5;132;01m}\u001B[39;00m\u001B[38;5;124m] are in the [\u001B[39m\u001B[38;5;132;01m{\u001B[39;00maxis_name\u001B[38;5;132;01m}\u001B[39;00m\u001B[38;5;124m]\u001B[39m\u001B[38;5;124m\"\u001B[39m)\n\u001B[1;32m   5844\u001B[0m not_found \u001B[38;5;241m=\u001B[39m \u001B[38;5;28mlist\u001B[39m(ensure_index(key)[missing_mask\u001B[38;5;241m.\u001B[39mnonzero()[\u001B[38;5;241m0\u001B[39m]]\u001B[38;5;241m.\u001B[39munique())\n\u001B[1;32m   5845\u001B[0m \u001B[38;5;28;01mraise\u001B[39;00m \u001B[38;5;167;01mKeyError\u001B[39;00m(\u001B[38;5;124mf\u001B[39m\u001B[38;5;124m\"\u001B[39m\u001B[38;5;132;01m{\u001B[39;00mnot_found\u001B[38;5;132;01m}\u001B[39;00m\u001B[38;5;124m not in index\u001B[39m\u001B[38;5;124m\"\u001B[39m)\n",
      "\u001B[0;31mKeyError\u001B[0m: \"None of [Index([' pickup_longitude', ' pickup_latitude'], dtype='object')] are in the [columns]\""
     ]
    }
   ],
   "source": [
    "dff = dff.join(assign_taxi_zones(dff, \" pickup_longitude\", \" pickup_latitude\", \"pickup_taxizone_id\"))\n",
    "dff = dff.join(assign_taxi_zones(dff, \" dropoff_longitude\", \" dropoff_latitude\", \"dropoff_taxizone_id\"))"
   ]
  },
  {
   "cell_type": "code",
   "execution_count": 9,
   "metadata": {
    "pycharm": {
     "name": "#%%\n"
    }
   },
   "outputs": [],
   "source": [
    "dff.to_csv('result.csv',index=False)"
   ]
  },
  {
   "cell_type": "code",
   "execution_count": 6,
   "metadata": {
    "pycharm": {
     "name": "#%%\n"
    }
   },
   "outputs": [
    {
     "data": {
      "text/plain": "   VendorID tpep_pickup_datetime tpep_dropoff_datetime  passenger_count  \\\n0       1.0  2021-01-01 00:30:10   2021-01-01 00:36:12              1.0   \n1       1.0  2021-01-01 00:51:20   2021-01-01 00:52:19              1.0   \n2       1.0  2021-01-01 00:43:30   2021-01-01 01:11:06              1.0   \n3       1.0  2021-01-01 00:15:48   2021-01-01 00:31:01              0.0   \n4       2.0  2021-01-01 00:31:49   2021-01-01 00:48:21              1.0   \n\n   trip_distance  RatecodeID store_and_fwd_flag  PULocationID  DOLocationID  \\\n0           2.10         1.0                  N           142            43   \n1           0.20         1.0                  N           238           151   \n2          14.70         1.0                  N           132           165   \n3          10.60         1.0                  N           138           132   \n4           4.94         1.0                  N            68            33   \n\n   payment_type  fare_amount  extra  mta_tax  tip_amount  tolls_amount  \\\n0           2.0          8.0    3.0      0.5        0.00           0.0   \n1           2.0          3.0    0.5      0.5        0.00           0.0   \n2           1.0         42.0    0.5      0.5        8.65           0.0   \n3           1.0         29.0    0.5      0.5        6.05           0.0   \n4           1.0         16.5    0.5      0.5        4.06           0.0   \n\n   improvement_surcharge  total_amount  congestion_surcharge  \n0                    0.3         11.80                   2.5  \n1                    0.3          4.30                   0.0  \n2                    0.3         51.95                   0.0  \n3                    0.3         36.35                   0.0  \n4                    0.3         24.36                   2.5  ",
      "text/html": "<div>\n<style scoped>\n    .dataframe tbody tr th:only-of-type {\n        vertical-align: middle;\n    }\n\n    .dataframe tbody tr th {\n        vertical-align: top;\n    }\n\n    .dataframe thead th {\n        text-align: right;\n    }\n</style>\n<table border=\"1\" class=\"dataframe\">\n  <thead>\n    <tr style=\"text-align: right;\">\n      <th></th>\n      <th>VendorID</th>\n      <th>tpep_pickup_datetime</th>\n      <th>tpep_dropoff_datetime</th>\n      <th>passenger_count</th>\n      <th>trip_distance</th>\n      <th>RatecodeID</th>\n      <th>store_and_fwd_flag</th>\n      <th>PULocationID</th>\n      <th>DOLocationID</th>\n      <th>payment_type</th>\n      <th>fare_amount</th>\n      <th>extra</th>\n      <th>mta_tax</th>\n      <th>tip_amount</th>\n      <th>tolls_amount</th>\n      <th>improvement_surcharge</th>\n      <th>total_amount</th>\n      <th>congestion_surcharge</th>\n    </tr>\n  </thead>\n  <tbody>\n    <tr>\n      <th>0</th>\n      <td>1.0</td>\n      <td>2021-01-01 00:30:10</td>\n      <td>2021-01-01 00:36:12</td>\n      <td>1.0</td>\n      <td>2.10</td>\n      <td>1.0</td>\n      <td>N</td>\n      <td>142</td>\n      <td>43</td>\n      <td>2.0</td>\n      <td>8.0</td>\n      <td>3.0</td>\n      <td>0.5</td>\n      <td>0.00</td>\n      <td>0.0</td>\n      <td>0.3</td>\n      <td>11.80</td>\n      <td>2.5</td>\n    </tr>\n    <tr>\n      <th>1</th>\n      <td>1.0</td>\n      <td>2021-01-01 00:51:20</td>\n      <td>2021-01-01 00:52:19</td>\n      <td>1.0</td>\n      <td>0.20</td>\n      <td>1.0</td>\n      <td>N</td>\n      <td>238</td>\n      <td>151</td>\n      <td>2.0</td>\n      <td>3.0</td>\n      <td>0.5</td>\n      <td>0.5</td>\n      <td>0.00</td>\n      <td>0.0</td>\n      <td>0.3</td>\n      <td>4.30</td>\n      <td>0.0</td>\n    </tr>\n    <tr>\n      <th>2</th>\n      <td>1.0</td>\n      <td>2021-01-01 00:43:30</td>\n      <td>2021-01-01 01:11:06</td>\n      <td>1.0</td>\n      <td>14.70</td>\n      <td>1.0</td>\n      <td>N</td>\n      <td>132</td>\n      <td>165</td>\n      <td>1.0</td>\n      <td>42.0</td>\n      <td>0.5</td>\n      <td>0.5</td>\n      <td>8.65</td>\n      <td>0.0</td>\n      <td>0.3</td>\n      <td>51.95</td>\n      <td>0.0</td>\n    </tr>\n    <tr>\n      <th>3</th>\n      <td>1.0</td>\n      <td>2021-01-01 00:15:48</td>\n      <td>2021-01-01 00:31:01</td>\n      <td>0.0</td>\n      <td>10.60</td>\n      <td>1.0</td>\n      <td>N</td>\n      <td>138</td>\n      <td>132</td>\n      <td>1.0</td>\n      <td>29.0</td>\n      <td>0.5</td>\n      <td>0.5</td>\n      <td>6.05</td>\n      <td>0.0</td>\n      <td>0.3</td>\n      <td>36.35</td>\n      <td>0.0</td>\n    </tr>\n    <tr>\n      <th>4</th>\n      <td>2.0</td>\n      <td>2021-01-01 00:31:49</td>\n      <td>2021-01-01 00:48:21</td>\n      <td>1.0</td>\n      <td>4.94</td>\n      <td>1.0</td>\n      <td>N</td>\n      <td>68</td>\n      <td>33</td>\n      <td>1.0</td>\n      <td>16.5</td>\n      <td>0.5</td>\n      <td>0.5</td>\n      <td>4.06</td>\n      <td>0.0</td>\n      <td>0.3</td>\n      <td>24.36</td>\n      <td>2.5</td>\n    </tr>\n  </tbody>\n</table>\n</div>"
     },
     "execution_count": 6,
     "metadata": {},
     "output_type": "execute_result"
    }
   ],
   "source": [
    "dff.head()"
   ]
  },
  {
   "cell_type": "code",
   "execution_count": null,
   "metadata": {
    "pycharm": {
     "name": "#%%\n"
    }
   },
   "outputs": [],
   "source": []
  }
 ],
 "metadata": {
  "kernelspec": {
   "display_name": "Python 3",
   "language": "python",
   "name": "python3"
  },
  "language_info": {
   "codemirror_mode": {
    "name": "ipython",
    "version": 3
   },
   "file_extension": ".py",
   "mimetype": "text/x-python",
   "name": "python",
   "nbconvert_exporter": "python",
   "pygments_lexer": "ipython3",
   "version": "3.7.3"
  }
 },
 "nbformat": 4,
 "nbformat_minor": 4
}