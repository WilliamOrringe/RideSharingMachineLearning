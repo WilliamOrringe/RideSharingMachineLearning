{
 "cells": [
  {
   "cell_type": "code",
   "execution_count": 1,
   "outputs": [
    {
     "name": "stdout",
     "output_type": "stream",
     "text": [
      "------------------------\n",
      "CURRENT TIME =  0\n",
      "Drivers : 0, zone=157\n",
      "++++++++++++++++++++++++\n",
      "Riders : 95, zone=157, time = 0, waiting for 0, end_zone=0\n",
      "Riders : 43, zone=41, time = 0, waiting for 0, end_zone=1\n",
      "Riders : 138, zone=90, time = 0, waiting for 0, end_zone=2\n",
      "Riders : 237, zone=236, time = 0, waiting for 0, end_zone=3\n",
      "Riders : 140, zone=263, time = 0, waiting for 0, end_zone=4\n",
      "Riders : 79, zone=137, time = 0, waiting for 0, end_zone=5\n",
      "Riders : 162, zone=161, time = 0, waiting for 0, end_zone=6\n",
      "Riders : 170, zone=233, time = 0, waiting for 0, end_zone=7\n",
      "Riders : 48, zone=141, time = 0, waiting for 0, end_zone=8\n",
      "Riders : 24, zone=237, time = 0, waiting for 0, end_zone=9\n",
      "Riders : 43, zone=200, time = 0, waiting for 0, end_zone=10\n",
      "Riders : 238, zone=151, time = 0, waiting for 0, end_zone=11\n",
      "------------------------\n",
      "Reward = 0\n",
      ">>>>>>>>>>>>>>>>>>>>>>>>>>>>>>>>>>>>>>>>>>>>>>>>>>\n",
      "[]\n",
      " value was true\n",
      "performed\n",
      "------------------------\n",
      "CURRENT TIME =  1\n",
      "Drivers : 0, zone=157\n",
      "++++++++++++++++++++++++\n",
      "Riders : 95, zone=157, time = 0, waiting for 1, end_zone=0\n",
      "Riders : 43, zone=41, time = 0, waiting for 1, end_zone=1\n",
      "Riders : 138, zone=90, time = 0, waiting for 1, end_zone=2\n",
      "Riders : 237, zone=236, time = 0, waiting for 1, end_zone=3\n",
      "Riders : 140, zone=263, time = 0, waiting for 1, end_zone=4\n",
      "Riders : 79, zone=137, time = 0, waiting for 1, end_zone=5\n",
      "Riders : 162, zone=161, time = 0, waiting for 1, end_zone=6\n",
      "Riders : 170, zone=233, time = 0, waiting for 1, end_zone=7\n",
      "Riders : 48, zone=141, time = 0, waiting for 1, end_zone=8\n",
      "Riders : 24, zone=237, time = 0, waiting for 1, end_zone=9\n",
      "Riders : 43, zone=200, time = 0, waiting for 1, end_zone=10\n",
      "Riders : 238, zone=151, time = 0, waiting for 1, end_zone=11\n",
      "------------------------\n",
      "Reward = -12\n"
     ]
    }
   ],
   "source": [
    "from Environment import Environment\n",
    "from Driver import Driver\n",
    "env = Environment(1)\n",
    "driver = Driver(1, [i for i in range(264)])\n",
    "driver.set_position(157)\n",
    "env.state.drivers = [driver]\n",
    "env.render()\n",
    "env.step([True])\n",
    "env.render()"
   ],
   "metadata": {
    "collapsed": false,
    "pycharm": {
     "name": "#%%\n"
    }
   }
  },
  {
   "cell_type": "code",
   "execution_count": 2,
   "outputs": [
    {
     "data": {
      "text/plain": "157 [] 0"
     },
     "execution_count": 2,
     "metadata": {},
     "output_type": "execute_result"
    }
   ],
   "source": [
    "env.state.drivers[0]"
   ],
   "metadata": {
    "collapsed": false,
    "pycharm": {
     "name": "#%%\n"
    }
   }
  },
  {
   "cell_type": "code",
   "execution_count": null,
   "outputs": [],
   "source": [],
   "metadata": {
    "collapsed": false,
    "pycharm": {
     "name": "#%%\n"
    }
   }
  }
 ],
 "metadata": {
  "kernelspec": {
   "display_name": "Python 3",
   "language": "python",
   "name": "python3"
  },
  "language_info": {
   "codemirror_mode": {
    "name": "ipython",
    "version": 2
   },
   "file_extension": ".py",
   "mimetype": "text/x-python",
   "name": "python",
   "nbconvert_exporter": "python",
   "pygments_lexer": "ipython2",
   "version": "2.7.6"
  }
 },
 "nbformat": 4,
 "nbformat_minor": 0
}