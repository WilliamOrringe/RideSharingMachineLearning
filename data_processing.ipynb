{
 "cells": [
  {
   "cell_type": "code",
   "execution_count": 1,
   "id": "3e3ea06c",
   "metadata": {
    "pycharm": {
     "name": "#%%\n"
    }
   },
   "outputs": [],
   "source": [
    "import csv\n",
    "\n",
    "def get_rides_data():\n",
    "    ride_data = []\n",
    "    with open(\"datasets/yellow_tripdata_2019-02.csv\", newline='', encoding=\"utf8\") as ride_file:\n",
    "        reader = csv.DictReader(ride_file)\n",
    "        for row in reader:\n",
    "            ride_data.append(row)\n",
    "    ride_file.close()\n",
    "    return ride_data"
   ]
  },
  {
   "cell_type": "code",
   "execution_count": 2,
   "outputs": [
    {
     "ename": "FileNotFoundError",
     "evalue": "[Errno 2] No such file or directory: 'datasets/yellow_tripdata_2019-02.csv'",
     "output_type": "error",
     "traceback": [
      "\u001B[0;31m---------------------------------------------------------------------------\u001B[0m",
      "\u001B[0;31mFileNotFoundError\u001B[0m                         Traceback (most recent call last)",
      "Input \u001B[0;32mIn [2]\u001B[0m, in \u001B[0;36m<cell line: 1>\u001B[0;34m()\u001B[0m\n\u001B[0;32m----> 1\u001B[0m ride_data2 \u001B[38;5;241m=\u001B[39m \u001B[43mget_rides_data\u001B[49m\u001B[43m(\u001B[49m\u001B[43m)\u001B[49m\n\u001B[1;32m      2\u001B[0m \u001B[38;5;28mprint\u001B[39m(ride_data2[\u001B[38;5;241m0\u001B[39m])\n\u001B[1;32m      3\u001B[0m amount_of_data_initial \u001B[38;5;241m=\u001B[39m \u001B[38;5;28mlen\u001B[39m(ride_data2) \u001B[38;5;241m*\u001B[39m \u001B[38;5;28mlen\u001B[39m(ride_data2[\u001B[38;5;241m0\u001B[39m])\n",
      "Input \u001B[0;32mIn [1]\u001B[0m, in \u001B[0;36mget_rides_data\u001B[0;34m()\u001B[0m\n\u001B[1;32m      3\u001B[0m \u001B[38;5;28;01mdef\u001B[39;00m \u001B[38;5;21mget_rides_data\u001B[39m():\n\u001B[1;32m      4\u001B[0m     ride_data \u001B[38;5;241m=\u001B[39m []\n\u001B[0;32m----> 5\u001B[0m     \u001B[38;5;28;01mwith\u001B[39;00m \u001B[38;5;28;43mopen\u001B[39;49m\u001B[43m(\u001B[49m\u001B[38;5;124;43m\"\u001B[39;49m\u001B[38;5;124;43mdatasets/yellow_tripdata_2019-02.csv\u001B[39;49m\u001B[38;5;124;43m\"\u001B[39;49m\u001B[43m,\u001B[49m\u001B[43m \u001B[49m\u001B[43mnewline\u001B[49m\u001B[38;5;241;43m=\u001B[39;49m\u001B[38;5;124;43m'\u001B[39;49m\u001B[38;5;124;43m'\u001B[39;49m\u001B[43m,\u001B[49m\u001B[43m \u001B[49m\u001B[43mencoding\u001B[49m\u001B[38;5;241;43m=\u001B[39;49m\u001B[38;5;124;43m\"\u001B[39;49m\u001B[38;5;124;43mutf8\u001B[39;49m\u001B[38;5;124;43m\"\u001B[39;49m\u001B[43m)\u001B[49m \u001B[38;5;28;01mas\u001B[39;00m ride_file:\n\u001B[1;32m      6\u001B[0m         reader \u001B[38;5;241m=\u001B[39m csv\u001B[38;5;241m.\u001B[39mDictReader(ride_file)\n\u001B[1;32m      7\u001B[0m         \u001B[38;5;28;01mfor\u001B[39;00m row \u001B[38;5;129;01min\u001B[39;00m reader:\n",
      "\u001B[0;31mFileNotFoundError\u001B[0m: [Errno 2] No such file or directory: 'datasets/yellow_tripdata_2019-02.csv'"
     ]
    }
   ],
   "source": [
    "ride_data2 = get_rides_data()\n",
    "print(ride_data2[0])\n",
    "amount_of_data_initial = len(ride_data2) * len(ride_data2[0])\n",
    "print(\"Initial data: \" + str(amount_of_data_initial))"
   ],
   "metadata": {
    "collapsed": false,
    "pycharm": {
     "name": "#%%\n"
    }
   }
  },
  {
   "cell_type": "markdown",
   "source": [
    "## Feature Selection"
   ],
   "metadata": {
    "collapsed": false,
    "pycharm": {
     "name": "#%% md\n"
    }
   }
  },
  {
   "cell_type": "code",
   "execution_count": 3,
   "outputs": [],
   "source": [
    "for datum in ride_data2:\n",
    "    datum.pop(\"VendorID\")\n",
    "    datum.pop(\"RatecodeID\")\n",
    "    datum.pop(\"store_and_fwd_flag\")\n",
    "    datum.pop(\"PULocationID\")\n",
    "    datum.pop(\"DOLocationID\")\n",
    "    datum.pop(\"payment_type\")\n",
    "    datum.pop(\"fare_amount\")\n",
    "    datum.pop(\"extra\")\n",
    "    datum.pop(\"mta_tax\")\n",
    "    datum.pop(\"tip_amount\")\n",
    "    datum.pop(\"tolls_amount\")\n",
    "    datum.pop(\"improvement_surcharge\")\n",
    "    datum.pop(\"total_amount\")\n",
    "    datum.pop(\"congestion_surcharge\")"
   ],
   "metadata": {
    "collapsed": false,
    "pycharm": {
     "name": "#%%\n"
    }
   }
  },
  {
   "cell_type": "code",
   "execution_count": 4,
   "outputs": [
    {
     "name": "stdout",
     "output_type": "stream",
     "text": [
      "Current data: 28077500\n",
      "Percentage of data removed: 77.78%\n",
      "Percentage of data left: 22.22%\n"
     ]
    }
   ],
   "source": [
    "amount_of_data_current = len(ride_data2)* len(ride_data2[0])\n",
    "print(\"Current data: \" + str(amount_of_data_current))\n",
    "percentage_cut = round(amount_of_data_current * 100/amount_of_data_initial, 2)\n",
    "print(\"Percentage of data removed: \" + str(100 - percentage_cut) + \"%\")\n",
    "print(\"Percentage of data left: \" + str(percentage_cut) + \"%\")"
   ],
   "metadata": {
    "collapsed": false,
    "pycharm": {
     "name": "#%%\n"
    }
   }
  },
  {
   "cell_type": "markdown",
   "source": [
    "## NEED TO REMOVE DATA THAT HAS 0 DISTANCE\n"
   ],
   "metadata": {
    "collapsed": false
   }
  },
  {
   "cell_type": "code",
   "execution_count": 5,
   "outputs": [
    {
     "name": "stdout",
     "output_type": "stream",
     "text": [
      "7019375\n"
     ]
    }
   ],
   "source": [
    "for datum in ride_data2:\n",
    "     if float(datum[\"trip_distance\"]) < 0.5:\n",
    "        del datum\n",
    "print(len(ride_data2))"
   ],
   "metadata": {
    "collapsed": false,
    "pycharm": {
     "name": "#%%\n"
    }
   }
  },
  {
   "cell_type": "markdown",
   "source": [
    "NOW CLEAN THE DATA"
   ],
   "metadata": {
    "collapsed": false,
    "pycharm": {
     "name": "#%% md\n"
    }
   }
  },
  {
   "cell_type": "code",
   "execution_count": 6,
   "outputs": [],
   "source": [
    "from datetime import datetime\n",
    "for datum in ride_data2:\n",
    "    first = datetime.fromisoformat(datum['tpep_pickup_datetime'])\n",
    "    second = datetime.fromisoformat(datum['tpep_dropoff_datetime'])\n",
    "    total_seconds = round((second-first).total_seconds())\n",
    "    datum['time'] = total_seconds\n",
    "    datum.pop(\"tpep_pickup_datetime\")\n",
    "    datum.pop(\"tpep_dropoff_datetime\")"
   ],
   "metadata": {
    "collapsed": false,
    "pycharm": {
     "name": "#%%\n"
    }
   }
  },
  {
   "cell_type": "markdown",
   "source": [
    "Test data"
   ],
   "metadata": {
    "collapsed": false,
    "pycharm": {
     "name": "#%% md\n"
    }
   }
  },
  {
   "cell_type": "code",
   "execution_count": 1,
   "outputs": [
    {
     "ename": "NameError",
     "evalue": "name 'ride_data2' is not defined",
     "output_type": "error",
     "traceback": [
      "\u001B[0;31m---------------------------------------------------------------------------\u001B[0m",
      "\u001B[0;31mNameError\u001B[0m                                 Traceback (most recent call last)",
      "Input \u001B[0;32mIn [1]\u001B[0m, in \u001B[0;36m<module>\u001B[0;34m\u001B[0m\n\u001B[0;32m----> 1\u001B[0m \u001B[38;5;28mprint\u001B[39m(\u001B[43mride_data2\u001B[49m[\u001B[38;5;241m0\u001B[39m])\n",
      "\u001B[0;31mNameError\u001B[0m: name 'ride_data2' is not defined"
     ]
    }
   ],
   "source": [
    "print(ride_data2[0])"
   ],
   "metadata": {
    "collapsed": false,
    "pycharm": {
     "name": "#%%\n"
    }
   }
  },
  {
   "cell_type": "code",
   "execution_count": null,
   "outputs": [],
   "source": [],
   "metadata": {
    "collapsed": false,
    "pycharm": {
     "name": "#%%\n"
    }
   }
  }
 ],
 "metadata": {
  "kernelspec": {
   "name": "pycharm-cff8f2c7",
   "language": "python",
   "display_name": "PyCharm (RideSharingMachineLearning)"
  },
  "language_info": {
   "codemirror_mode": {
    "name": "ipython",
    "version": 3
   },
   "file_extension": ".py",
   "mimetype": "text/x-python",
   "name": "python",
   "nbconvert_exporter": "python",
   "pygments_lexer": "ipython3",
   "version": "3.9.7"
  }
 },
 "nbformat": 4,
 "nbformat_minor": 5
}