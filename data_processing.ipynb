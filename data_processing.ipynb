{
 "cells": [
  {
   "cell_type": "code",
   "execution_count": 1,
   "id": "3e3ea06c",
   "metadata": {
    "pycharm": {
     "name": "#%%\n"
    }
   },
   "outputs": [],
   "source": [
    "import csv\n",
    "\n",
    "def get_rides_data():\n",
    "    ride_data = []\n",
    "    with open(\"datasets/yellow_tripdata_2019-02.csv\", newline='', encoding=\"utf8\") as ride_file:\n",
    "        reader = csv.DictReader(ride_file)\n",
    "        for row in reader:\n",
    "            ride_data.append(row)\n",
    "    ride_file.close()\n",
    "    return ride_data"
   ]
  },
  {
   "cell_type": "code",
   "execution_count": 2,
   "outputs": [
    {
     "name": "stdout",
     "output_type": "stream",
     "text": [
      "{'VendorID': '1', 'tpep_pickup_datetime': '2019-02-01 00:59:04', 'tpep_dropoff_datetime': '2019-02-01 01:07:27', 'passenger_count': '1', 'trip_distance': '2.10', 'RatecodeID': '1', 'store_and_fwd_flag': 'N', 'PULocationID': '48', 'DOLocationID': '234', 'payment_type': '1', 'fare_amount': '9', 'extra': '0.5', 'mta_tax': '0.5', 'tip_amount': '2', 'tolls_amount': '0', 'improvement_surcharge': '0.3', 'total_amount': '12.3', 'congestion_surcharge': '0'}\n",
      "Initial data: 126348750\n"
     ]
    }
   ],
   "source": [
    "ride_data2 = get_rides_data()\n",
    "print(ride_data2[0])\n",
    "amount_of_data_initial = len(ride_data2) * len(ride_data2[0])\n",
    "print(\"Initial data: \" + str(amount_of_data_initial))"
   ],
   "metadata": {
    "collapsed": false,
    "pycharm": {
     "name": "#%%\n"
    }
   }
  },
  {
   "cell_type": "markdown",
   "source": [
    "## Feature Selection"
   ],
   "metadata": {
    "collapsed": false,
    "pycharm": {
     "name": "#%% md\n"
    }
   }
  },
  {
   "cell_type": "code",
   "execution_count": 3,
   "outputs": [],
   "source": [
    "for datum in ride_data2:\n",
    "    datum.pop(\"VendorID\")\n",
    "    datum.pop(\"RatecodeID\")\n",
    "    datum.pop(\"store_and_fwd_flag\")\n",
    "    datum.pop(\"PULocationID\")\n",
    "    datum.pop(\"DOLocationID\")\n",
    "    datum.pop(\"payment_type\")\n",
    "    datum.pop(\"fare_amount\")\n",
    "    datum.pop(\"extra\")\n",
    "    datum.pop(\"mta_tax\")\n",
    "    datum.pop(\"tip_amount\")\n",
    "    datum.pop(\"tolls_amount\")\n",
    "    datum.pop(\"improvement_surcharge\")\n",
    "    datum.pop(\"total_amount\")\n",
    "    datum.pop(\"congestion_surcharge\")"
   ],
   "metadata": {
    "collapsed": false,
    "pycharm": {
     "name": "#%%\n"
    }
   }
  },
  {
   "cell_type": "code",
   "execution_count": 4,
   "outputs": [
    {
     "name": "stdout",
     "output_type": "stream",
     "text": [
      "Current data: 28077500\n",
      "Percentage of data removed: 77.78%\n",
      "Percentage of data left: 22.22%\n"
     ]
    }
   ],
   "source": [
    "amount_of_data_current = len(ride_data2)* len(ride_data2[0])\n",
    "print(\"Current data: \" + str(amount_of_data_current))\n",
    "percentage_cut = round(amount_of_data_current * 100/amount_of_data_initial, 2)\n",
    "print(\"Percentage of data removed: \" + str(100 - percentage_cut) + \"%\")\n",
    "print(\"Percentage of data left: \" + str(percentage_cut) + \"%\")"
   ],
   "metadata": {
    "collapsed": false,
    "pycharm": {
     "name": "#%%\n"
    }
   }
  },
  {
   "cell_type": "markdown",
   "source": [
    "## NEED TO REMOVE DATA THAT HAS 0 DISTANCE\n"
   ],
   "metadata": {
    "collapsed": false
   }
  },
  {
   "cell_type": "code",
   "execution_count": 5,
   "outputs": [
    {
     "name": "stdout",
     "output_type": "stream",
     "text": [
      "7019375\n"
     ]
    }
   ],
   "source": [
    "for datum in ride_data2:\n",
    "     if float(datum[\"trip_distance\"]) < 0.5:\n",
    "        del datum\n",
    "print(len(ride_data2))"
   ],
   "metadata": {
    "collapsed": false,
    "pycharm": {
     "name": "#%%\n"
    }
   }
  },
  {
   "cell_type": "markdown",
   "source": [
    "NOW CLEAN THE DATA"
   ],
   "metadata": {
    "collapsed": false,
    "pycharm": {
     "name": "#%% md\n"
    }
   }
  },
  {
   "cell_type": "code",
   "execution_count": 6,
   "outputs": [],
   "source": [
    "from datetime import datetime\n",
    "for datum in ride_data2:\n",
    "    first = datetime.fromisoformat(datum['tpep_pickup_datetime'])\n",
    "    second = datetime.fromisoformat(datum['tpep_dropoff_datetime'])\n",
    "    total_seconds = round((second-first).total_seconds())\n",
    "    datum['time'] = total_seconds\n",
    "    datum.pop(\"tpep_pickup_datetime\")\n",
    "    datum.pop(\"tpep_dropoff_datetime\")"
   ],
   "metadata": {
    "collapsed": false,
    "pycharm": {
     "name": "#%%\n"
    }
   }
  },
  {
   "cell_type": "markdown",
   "source": [
    "Test data"
   ],
   "metadata": {
    "collapsed": false,
    "pycharm": {
     "name": "#%% md\n"
    }
   }
  },
  {
   "cell_type": "code",
   "execution_count": null,
   "outputs": [],
   "source": [
    "print(ride_data2[0])"
   ],
   "metadata": {
    "collapsed": false,
    "pycharm": {
     "name": "#%%\n"
    }
   }
  }
 ],
 "metadata": {
  "kernelspec": {
   "display_name": "Python 3 (ipykernel)",
   "language": "python",
   "name": "python3"
  },
  "language_info": {
   "codemirror_mode": {
    "name": "ipython",
    "version": 3
   },
   "file_extension": ".py",
   "mimetype": "text/x-python",
   "name": "python",
   "nbconvert_exporter": "python",
   "pygments_lexer": "ipython3",
   "version": "3.9.7"
  }
 },
 "nbformat": 4,
 "nbformat_minor": 5
}