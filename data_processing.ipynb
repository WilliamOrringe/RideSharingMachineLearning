{
 "cells": [
  {
   "cell_type": "code",
   "execution_count": 25,
   "id": "3e3ea06c",
   "metadata": {
    "pycharm": {
     "name": "#%%\n"
    }
   },
   "outputs": [],
   "source": [
    "import csv\n",
    "\n",
    "def get_rides_data():\n",
    "    ride_data = []\n",
    "    with open(\"data/yellow_tripdata_2021-01.csv\", newline='', encoding=\"utf8\") as ride_file:\n",
    "        reader = csv.DictReader(ride_file)\n",
    "        for row in reader:\n",
    "            ride_data.append(row)\n",
    "    ride_file.close()\n",
    "    return ride_data"
   ]
  },
  {
   "cell_type": "code",
   "execution_count": 26,
   "outputs": [
    {
     "name": "stdout",
     "output_type": "stream",
     "text": [
      "{'VendorID': '1', 'tpep_pickup_datetime': '2021-01-01 00:30:10', 'tpep_dropoff_datetime': '2021-01-01 00:36:12', 'passenger_count': '1', 'trip_distance': '2.10', 'RatecodeID': '1', 'store_and_fwd_flag': 'N', 'PULocationID': '142', 'DOLocationID': '43', 'payment_type': '2', 'fare_amount': '8', 'extra': '3', 'mta_tax': '0.5', 'tip_amount': '0', 'tolls_amount': '0', 'improvement_surcharge': '0.3', 'total_amount': '11.8', 'congestion_surcharge': '2.5'}\n",
      "Initial data: 24655770\n"
     ]
    }
   ],
   "source": [
    "ride_data2 = get_rides_data()\n",
    "print(ride_data2[0])\n",
    "amount_of_data_initial = len(ride_data2) * len(ride_data2[0])\n",
    "print(\"Initial data: \" + str(amount_of_data_initial))"
   ],
   "metadata": {
    "collapsed": false,
    "pycharm": {
     "name": "#%%\n"
    }
   }
  },
  {
   "cell_type": "markdown",
   "source": [
    "## Feature Selection"
   ],
   "metadata": {
    "collapsed": false,
    "pycharm": {
     "name": "#%% md\n"
    }
   }
  },
  {
   "cell_type": "code",
   "execution_count": 27,
   "outputs": [],
   "source": [
    "for datum in ride_data2:\n",
    "    datum.pop(\"VendorID\")\n",
    "    datum.pop(\"RatecodeID\")\n",
    "    datum.pop(\"store_and_fwd_flag\")\n",
    "    datum.pop(\"payment_type\")\n",
    "    datum.pop(\"fare_amount\")\n",
    "    datum.pop(\"extra\")\n",
    "    datum.pop(\"mta_tax\")\n",
    "    datum.pop(\"tip_amount\")\n",
    "    datum.pop(\"tolls_amount\")\n",
    "    datum.pop(\"improvement_surcharge\")\n",
    "    datum.pop(\"total_amount\")\n",
    "    datum.pop(\"congestion_surcharge\")"
   ],
   "metadata": {
    "collapsed": false,
    "pycharm": {
     "name": "#%%\n"
    }
   }
  },
  {
   "cell_type": "code",
   "execution_count": 28,
   "outputs": [
    {
     "name": "stdout",
     "output_type": "stream",
     "text": [
      "Current data: 8218590\n",
      "Percentage of data removed: 66.67%\n",
      "Percentage of data left: 33.33%\n"
     ]
    }
   ],
   "source": [
    "amount_of_data_current = len(ride_data2)* len(ride_data2[0])\n",
    "print(\"Current data: \" + str(amount_of_data_current))\n",
    "percentage_cut = round(amount_of_data_current * 100/amount_of_data_initial, 2)\n",
    "print(\"Percentage of data removed: \" + str(100 - percentage_cut) + \"%\")\n",
    "print(\"Percentage of data left: \" + str(percentage_cut) + \"%\")"
   ],
   "metadata": {
    "collapsed": false,
    "pycharm": {
     "name": "#%%\n"
    }
   }
  },
  {
   "cell_type": "markdown",
   "source": [
    "## NEED TO REMOVE DATA THAT HAS 0 DISTANCE\n"
   ],
   "metadata": {
    "collapsed": false,
    "pycharm": {
     "name": "#%% md\n"
    }
   }
  },
  {
   "cell_type": "code",
   "execution_count": 29,
   "outputs": [
    {
     "name": "stdout",
     "output_type": "stream",
     "text": [
      "1369765\n"
     ]
    }
   ],
   "source": [
    "for datum in ride_data2:\n",
    "     if float(datum[\"trip_distance\"]) < 0.5:\n",
    "        del datum\n",
    "print(len(ride_data2))"
   ],
   "metadata": {
    "collapsed": false,
    "pycharm": {
     "name": "#%%\n"
    }
   }
  },
  {
   "cell_type": "markdown",
   "source": [
    "NOW CLEAN THE DATA"
   ],
   "metadata": {
    "collapsed": false,
    "pycharm": {
     "name": "#%% md\n"
    }
   }
  },
  {
   "cell_type": "code",
   "execution_count": 30,
   "outputs": [],
   "source": [
    "import math\n",
    "from datetime import datetime\n",
    "def format_dates(date_begin: str, to_format: str):\n",
    "    first1 = datetime.fromisoformat(date_begin)\n",
    "    second1 = datetime.fromisoformat(to_format)\n",
    "    rounded = round((second1 - first1).total_seconds())\n",
    "    base = 125\n",
    "    return  round(rounded/base)"
   ],
   "metadata": {
    "collapsed": false,
    "pycharm": {
     "name": "#%%\n"
    }
   }
  },
  {
   "cell_type": "code",
   "execution_count": 31,
   "outputs": [
    {
     "data": {
      "text/plain": "21427"
     },
     "execution_count": 31,
     "metadata": {},
     "output_type": "execute_result"
    }
   ],
   "source": [
    "format_dates('2021-01-01 00:00:00', '2021-01-31 23:59:59')"
   ],
   "metadata": {
    "collapsed": false,
    "pycharm": {
     "name": "#%%\n"
    }
   }
  },
  {
   "cell_type": "code",
   "execution_count": 32,
   "outputs": [
    {
     "name": "stdout",
     "output_type": "stream",
     "text": [
      "1369765\n",
      "1347699\n"
     ]
    }
   ],
   "source": [
    "from datetime import datetime\n",
    "print(len(ride_data2))\n",
    "ride_data3 = []\n",
    "for datum in ride_data2:\n",
    "    first = datetime.fromisoformat(datum['tpep_pickup_datetime'])\n",
    "    second = datetime.fromisoformat(datum['tpep_dropoff_datetime'])\n",
    "    total_seconds = round((second-first).total_seconds())\n",
    "    pick_time = format_dates('2021-01-01 00:00:00' , datum['tpep_pickup_datetime'])\n",
    "    drop_time = format_dates('2021-01-01 00:00:00', datum[\"tpep_dropoff_datetime\"])\n",
    "    if pick_time != drop_time:\n",
    "        datum[\"pickup_time\"] = pick_time\n",
    "        datum[\"dropoff_time\"] = drop_time\n",
    "        ride_data3.append(datum)\n",
    "print(len(ride_data3))"
   ],
   "metadata": {
    "collapsed": false,
    "pycharm": {
     "name": "#%%\n"
    }
   }
  },
  {
   "cell_type": "code",
   "execution_count": 33,
   "outputs": [],
   "source": [
    "for datum in ride_data2:\n",
    "    datum.pop(\"tpep_pickup_datetime\")\n",
    "    datum.pop(\"tpep_dropoff_datetime\")\n",
    "    datum.pop(\"passenger_count\")"
   ],
   "metadata": {
    "collapsed": false,
    "pycharm": {
     "name": "#%%\n"
    }
   }
  },
  {
   "cell_type": "code",
   "execution_count": 34,
   "outputs": [
    {
     "name": "stdout",
     "output_type": "stream",
     "text": [
      "Current data: 6848825\n",
      "Percentage of data removed: 72.22%\n",
      "Percentage of data left: 27.78%\n"
     ]
    }
   ],
   "source": [
    "amount_of_data_current = len(ride_data2)* len(ride_data2[0])\n",
    "print(\"Current data: \" + str(amount_of_data_current))\n",
    "percentage_cut = round(amount_of_data_current * 100/amount_of_data_initial, 2)\n",
    "print(\"Percentage of data removed: \" + str(100 - percentage_cut) + \"%\")\n",
    "print(\"Percentage of data left: \" + str(percentage_cut) + \"%\")"
   ],
   "metadata": {
    "collapsed": false,
    "pycharm": {
     "name": "#%%\n"
    }
   }
  },
  {
   "cell_type": "markdown",
   "source": [
    "Test data"
   ],
   "metadata": {
    "collapsed": false,
    "pycharm": {
     "name": "#%% md\n"
    }
   }
  },
  {
   "cell_type": "code",
   "execution_count": 35,
   "outputs": [
    {
     "name": "stdout",
     "output_type": "stream",
     "text": [
      "{'trip_distance': '2.10', 'PULocationID': '142', 'DOLocationID': '43', 'pickup_time': 14, 'dropoff_time': 17}\n",
      "1369765\n"
     ]
    }
   ],
   "source": [
    "print(ride_data2[0])\n",
    "print(len(ride_data2))"
   ],
   "metadata": {
    "collapsed": false,
    "pycharm": {
     "name": "#%%\n"
    }
   }
  },
  {
   "cell_type": "code",
   "execution_count": 36,
   "outputs": [],
   "source": [
    "def who_being_picked_up(pickup_time):\n",
    "    drivers = []\n",
    "    for datum2 in ride_data2:\n",
    "        if datum2['pickup_time'] == pickup_time:\n",
    "            drivers.append(datum2)\n",
    "    return drivers"
   ],
   "metadata": {
    "collapsed": false,
    "pycharm": {
     "name": "#%%\n"
    }
   }
  },
  {
   "cell_type": "code",
   "execution_count": 37,
   "outputs": [],
   "source": [
    "def run_some_iterations(number):\n",
    "    beans = []\n",
    "    segment = 10\n",
    "    for i in range(1, number):\n",
    "        total = round(number/segment)\n",
    "        if i % total == 0:\n",
    "            print(round(i * 100 / number), \"%\")\n",
    "        goat = who_being_picked_up(i)\n",
    "        beans.append(goat)\n",
    "    print(beans)"
   ],
   "metadata": {
    "collapsed": false,
    "pycharm": {
     "name": "#%%\n"
    }
   }
  },
  {
   "cell_type": "code",
   "execution_count": 38,
   "outputs": [],
   "source": [
    "def find_last_time():\n",
    "    return ride_data2[-1][\"pickup_time\"]"
   ],
   "metadata": {
    "collapsed": false,
    "pycharm": {
     "name": "#%%\n"
    }
   }
  },
  {
   "cell_type": "code",
   "execution_count": 39,
   "outputs": [
    {
     "name": "stdout",
     "output_type": "stream",
     "text": [
      "16837\n"
     ]
    }
   ],
   "source": [
    "print(find_last_time())"
   ],
   "metadata": {
    "collapsed": false,
    "pycharm": {
     "name": "#%%\n"
    }
   }
  },
  {
   "cell_type": "code",
   "execution_count": 40,
   "outputs": [
    {
     "name": "stdout",
     "output_type": "stream",
     "text": [
      "1\n",
      "10 %\n"
     ]
    },
    {
     "ename": "KeyError",
     "evalue": "'pickup_time'",
     "output_type": "error",
     "traceback": [
      "\u001B[0;31m---------------------------------------------------------------------------\u001B[0m",
      "\u001B[0;31mKeyError\u001B[0m                                  Traceback (most recent call last)",
      "Input \u001B[0;32mIn [40]\u001B[0m, in \u001B[0;36m<module>\u001B[0;34m\u001B[0m\n\u001B[0;32m----> 1\u001B[0m \u001B[43mrun_some_iterations\u001B[49m\u001B[43m(\u001B[49m\u001B[38;5;241;43m10\u001B[39;49m\u001B[43m)\u001B[49m\n",
      "Input \u001B[0;32mIn [37]\u001B[0m, in \u001B[0;36mrun_some_iterations\u001B[0;34m(number)\u001B[0m\n\u001B[1;32m      7\u001B[0m     \u001B[38;5;28;01mif\u001B[39;00m i \u001B[38;5;241m%\u001B[39m total \u001B[38;5;241m==\u001B[39m \u001B[38;5;241m0\u001B[39m:\n\u001B[1;32m      8\u001B[0m         \u001B[38;5;28mprint\u001B[39m(\u001B[38;5;28mround\u001B[39m(i \u001B[38;5;241m*\u001B[39m \u001B[38;5;241m100\u001B[39m \u001B[38;5;241m/\u001B[39m number), \u001B[38;5;124m\"\u001B[39m\u001B[38;5;124m%\u001B[39m\u001B[38;5;124m\"\u001B[39m)\n\u001B[0;32m----> 9\u001B[0m     goat \u001B[38;5;241m=\u001B[39m \u001B[43mwho_being_picked_up\u001B[49m\u001B[43m(\u001B[49m\u001B[43mi\u001B[49m\u001B[43m)\u001B[49m\n\u001B[1;32m     10\u001B[0m     beans\u001B[38;5;241m.\u001B[39mappend(goat)\n\u001B[1;32m     11\u001B[0m \u001B[38;5;28mprint\u001B[39m(beans)\n",
      "Input \u001B[0;32mIn [36]\u001B[0m, in \u001B[0;36mwho_being_picked_up\u001B[0;34m(pickup_time)\u001B[0m\n\u001B[1;32m      2\u001B[0m drivers \u001B[38;5;241m=\u001B[39m []\n\u001B[1;32m      3\u001B[0m \u001B[38;5;28;01mfor\u001B[39;00m datum2 \u001B[38;5;129;01min\u001B[39;00m ride_data2:\n\u001B[0;32m----> 4\u001B[0m     \u001B[38;5;28;01mif\u001B[39;00m \u001B[43mdatum2\u001B[49m\u001B[43m[\u001B[49m\u001B[38;5;124;43m'\u001B[39;49m\u001B[38;5;124;43mpickup_time\u001B[39;49m\u001B[38;5;124;43m'\u001B[39;49m\u001B[43m]\u001B[49m \u001B[38;5;241m==\u001B[39m pickup_time:\n\u001B[1;32m      5\u001B[0m         drivers\u001B[38;5;241m.\u001B[39mappend(datum2)\n\u001B[1;32m      6\u001B[0m \u001B[38;5;28;01mreturn\u001B[39;00m drivers\n",
      "\u001B[0;31mKeyError\u001B[0m: 'pickup_time'"
     ]
    }
   ],
   "source": [
    "run_some_iterations(10)"
   ],
   "metadata": {
    "collapsed": false,
    "pycharm": {
     "name": "#%%\n"
    }
   }
  },
  {
   "cell_type": "markdown",
   "source": [
    "\n",
    "CSV\n"
   ],
   "metadata": {
    "collapsed": false,
    "pycharm": {
     "name": "#%% md\n"
    }
   }
  },
  {
   "cell_type": "code",
   "execution_count": null,
   "outputs": [],
   "source": [
    "import csv\n",
    "def make_csv():\n",
    "    # open the file in the write mode\n",
    "    file = open('data/cleandata/clean_data.csv', 'w+')\n",
    "    writer = csv.writer(file)\n",
    "    writer.writerow(ride_data2[0].keys())\n",
    "    for datum3 in ride_data2:\n",
    "        writer.writerow(datum3.values())"
   ],
   "metadata": {
    "collapsed": false,
    "pycharm": {
     "name": "#%%\n"
    }
   }
  },
  {
   "cell_type": "code",
   "execution_count": null,
   "outputs": [],
   "source": [
    "make_csv()"
   ],
   "metadata": {
    "collapsed": false,
    "pycharm": {
     "name": "#%%\n"
    }
   }
  },
  {
   "cell_type": "code",
   "execution_count": null,
   "outputs": [],
   "source": [],
   "metadata": {
    "collapsed": false,
    "pycharm": {
     "name": "#%%\n"
    }
   }
  }
 ],
 "metadata": {
  "kernelspec": {
   "name": "pycharm-cff8f2c7",
   "language": "python",
   "display_name": "PyCharm (RideSharingMachineLearning)"
  },
  "language_info": {
   "codemirror_mode": {
    "name": "ipython",
    "version": 3
   },
   "file_extension": ".py",
   "mimetype": "text/x-python",
   "name": "python",
   "nbconvert_exporter": "python",
   "pygments_lexer": "ipython3",
   "version": "3.9.7"
  }
 },
 "nbformat": 4,
 "nbformat_minor": 5
}